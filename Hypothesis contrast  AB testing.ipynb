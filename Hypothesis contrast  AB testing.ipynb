{
 "cells": [
  {
   "cell_type": "code",
   "execution_count": 11,
   "id": "e7dd4398",
   "metadata": {},
   "outputs": [],
   "source": [
    "#carga de paquetes de datos\n",
    "import pandas as pd\n",
    "import numpy as np\n",
    "from statsmodels.stats.proportion import proportions_ztest"
   ]
  },
  {
   "cell_type": "code",
   "execution_count": 6,
   "id": "ad0b4a95",
   "metadata": {},
   "outputs": [],
   "source": [
    "#Step 1: we define the hypotheses\n",
    "#H0: Sales on both pages are statistically the same\n",
    "#H1: Sales on both pages are significantly different"
   ]
  },
  {
   "cell_type": "code",
   "execution_count": 9,
   "id": "25a76728",
   "metadata": {},
   "outputs": [],
   "source": [
    "#Step 2: We choose the level of confidence that alpha gives us\n",
    "#We choose NC = 95%\n",
    "alpha = 0.05"
   ]
  },
  {
   "cell_type": "code",
   "execution_count": 13,
   "id": "9fe13715",
   "metadata": {},
   "outputs": [
    {
     "name": "stdout",
     "output_type": "stream",
     "text": [
      "0.023\n"
     ]
    }
   ],
   "source": [
    "#Step 3: We calculate the value according to the chosen contrast statistic (z over two samples)\n",
    "ventas_a = 38\n",
    "ventas_b = 60\n",
    "muestra_a = 1000\n",
    "muestra_b = 1000\n",
    "\n",
    "#It is passed in arrays because that is what the function requests\n",
    "array_ventas = np.array([ventas_a, ventas_b])\n",
    "array_muestras = np.array([muestra_a, muestra_b])\n",
    "\n",
    "                        #counts                 #observations\n",
    "p_valor = proportions_ztest(count = array_ventas, nobs = array_muestras)[1]\n",
    "print(f\"{p_valor:.3f}\")"
   ]
  },
  {
   "cell_type": "code",
   "execution_count": null,
   "id": "c5ae4e08",
   "metadata": {},
   "outputs": [],
   "source": [
    "##Step 4: CONCLUSION\n",
    "\n",
    "#As the pvalue is less than alpha we can reject the null hypothesis.\n",
    "\n",
    "#And therefore we conclude that page B is better than page A with the difference statistically significant under a confidence level of 95%"
   ]
  }
 ],
 "metadata": {
  "kernelspec": {
   "display_name": "Python 3 (ipykernel)",
   "language": "python",
   "name": "python3"
  },
  "language_info": {
   "codemirror_mode": {
    "name": "ipython",
    "version": 3
   },
   "file_extension": ".py",
   "mimetype": "text/x-python",
   "name": "python",
   "nbconvert_exporter": "python",
   "pygments_lexer": "ipython3",
   "version": "3.9.13"
  }
 },
 "nbformat": 4,
 "nbformat_minor": 5
}
